{
 "cells": [
  {
   "cell_type": "code",
   "execution_count": 1,
   "id": "e60d2e4e-de8d-48f0-9794-7eb4b6f580f5",
   "metadata": {},
   "outputs": [],
   "source": [
    "import pandas as pd"
   ]
  },
  {
   "cell_type": "code",
   "execution_count": 3,
   "id": "af4c8514-e5cc-4824-a9be-f6882ae3045a",
   "metadata": {},
   "outputs": [],
   "source": [
    "data = {\n",
    "    'Transaction_ID': [1, 2, 3, 4, 5],\n",
    "    'Product': ['A', 'B', 'A', 'C', 'B'],\n",
    "    'Quantity': [10, 5, 2, 8, 7],\n",
    "    'Price_per_Unit': [100, 200, 100, 300, 200]\n",
    "}"
   ]
  },
  {
   "cell_type": "code",
   "execution_count": 4,
   "id": "ac7b4250-5822-433c-a95b-653482dffc31",
   "metadata": {},
   "outputs": [],
   "source": [
    "df = pd.DataFrame(data)"
   ]
  },
  {
   "cell_type": "code",
   "execution_count": 5,
   "id": "a054088f-1fea-4021-ad7f-d650f8a94780",
   "metadata": {},
   "outputs": [
    {
     "data": {
      "text/html": [
       "<div>\n",
       "<style scoped>\n",
       "    .dataframe tbody tr th:only-of-type {\n",
       "        vertical-align: middle;\n",
       "    }\n",
       "\n",
       "    .dataframe tbody tr th {\n",
       "        vertical-align: top;\n",
       "    }\n",
       "\n",
       "    .dataframe thead th {\n",
       "        text-align: right;\n",
       "    }\n",
       "</style>\n",
       "<table border=\"1\" class=\"dataframe\">\n",
       "  <thead>\n",
       "    <tr style=\"text-align: right;\">\n",
       "      <th></th>\n",
       "      <th>Transaction_ID</th>\n",
       "      <th>Product</th>\n",
       "      <th>Quantity</th>\n",
       "      <th>Price_per_Unit</th>\n",
       "    </tr>\n",
       "  </thead>\n",
       "  <tbody>\n",
       "    <tr>\n",
       "      <th>0</th>\n",
       "      <td>1</td>\n",
       "      <td>A</td>\n",
       "      <td>10</td>\n",
       "      <td>100</td>\n",
       "    </tr>\n",
       "    <tr>\n",
       "      <th>1</th>\n",
       "      <td>2</td>\n",
       "      <td>B</td>\n",
       "      <td>5</td>\n",
       "      <td>200</td>\n",
       "    </tr>\n",
       "    <tr>\n",
       "      <th>2</th>\n",
       "      <td>3</td>\n",
       "      <td>A</td>\n",
       "      <td>2</td>\n",
       "      <td>100</td>\n",
       "    </tr>\n",
       "    <tr>\n",
       "      <th>3</th>\n",
       "      <td>4</td>\n",
       "      <td>C</td>\n",
       "      <td>8</td>\n",
       "      <td>300</td>\n",
       "    </tr>\n",
       "    <tr>\n",
       "      <th>4</th>\n",
       "      <td>5</td>\n",
       "      <td>B</td>\n",
       "      <td>7</td>\n",
       "      <td>200</td>\n",
       "    </tr>\n",
       "  </tbody>\n",
       "</table>\n",
       "</div>"
      ],
      "text/plain": [
       "   Transaction_ID Product  Quantity  Price_per_Unit\n",
       "0               1       A        10             100\n",
       "1               2       B         5             200\n",
       "2               3       A         2             100\n",
       "3               4       C         8             300\n",
       "4               5       B         7             200"
      ]
     },
     "execution_count": 5,
     "metadata": {},
     "output_type": "execute_result"
    }
   ],
   "source": [
    "df"
   ]
  },
  {
   "cell_type": "code",
   "execution_count": 6,
   "id": "0504b8c8-a3ea-4a76-aedd-3928f793562c",
   "metadata": {},
   "outputs": [],
   "source": [
    "def calculate_average_revenue(df):\n",
    "    df['Revenue'] = df['Quantity'] * df['Price_per_Unit']\n",
    "    average_revenue = df['Revenue'].mean()\n",
    "    return average_revenue"
   ]
  },
  {
   "cell_type": "code",
   "execution_count": 7,
   "id": "8fc5d7c5-f11b-4706-93fc-7b7e830e8dd1",
   "metadata": {},
   "outputs": [],
   "source": [
    "average_revenue = calculate_average_revenue(df)"
   ]
  },
  {
   "cell_type": "code",
   "execution_count": 8,
   "id": "939e5722-8e1b-460e-833c-61fc1e79c6f1",
   "metadata": {},
   "outputs": [
    {
     "name": "stdout",
     "output_type": "stream",
     "text": [
      "1200.0\n"
     ]
    }
   ],
   "source": [
    "print(average_revenue)"
   ]
  },
  {
   "cell_type": "code",
   "execution_count": null,
   "id": "b83ca9c6-5d2c-48e3-b6d3-bac0c1cd6742",
   "metadata": {},
   "outputs": [],
   "source": []
  },
  {
   "cell_type": "code",
   "execution_count": null,
   "id": "efff912a-b0f7-4785-b3c1-fba021b3976f",
   "metadata": {},
   "outputs": [],
   "source": []
  },
  {
   "cell_type": "code",
   "execution_count": 11,
   "id": "0025c22f-9741-43e1-8bf0-d2205c9fe193",
   "metadata": {},
   "outputs": [],
   "source": [
    "import pandas as pd\n",
    "\n",
    "# Sample dataset\n",
    "\n",
    "\n",
    "# Create a pandas DataFrame\n",
    "\n",
    "# Define the function to calculate total revenue\n",
    "\n",
    "\n",
    "# Calculate the total revenue\n",
    "\n"
   ]
  },
  {
   "cell_type": "code",
   "execution_count": 12,
   "id": "dd50b2b2-ec0f-4aea-a23e-d1fb6b58e81d",
   "metadata": {},
   "outputs": [],
   "source": [
    "data = {\n",
    "    'Transaction_ID': [1, 2, 3],\n",
    "    'Date': ['2023-08-01', '2023-08-02', '2023-08-03'],\n",
    "    'Product': ['Product A', 'Product B', 'Product C'],\n",
    "    'Quantity': [5, 10, 2],\n",
    "    'Price_per_Unit': [100, 50, 200]}"
   ]
  },
  {
   "cell_type": "code",
   "execution_count": 13,
   "id": "c43d1a43-8836-4389-8794-de38ca1bcfc6",
   "metadata": {},
   "outputs": [],
   "source": [
    "df = pd.DataFrame(data)"
   ]
  },
  {
   "cell_type": "code",
   "execution_count": 14,
   "id": "c94a8ad7-afdb-4daa-a31d-fb20635ce6e6",
   "metadata": {},
   "outputs": [],
   "source": [
    "def calculate_total_revenue(df):\n",
    "    df['Total_Price'] = df['Quantity'] * df['Price_per_Unit']\n",
    "    total_revenue = df['Total_Price'].sum()\n",
    "    return total_revenue"
   ]
  },
  {
   "cell_type": "code",
   "execution_count": 15,
   "id": "52276ac3-6d4f-41da-8491-99f56eb5196a",
   "metadata": {},
   "outputs": [],
   "source": [
    "total_revenue = calculate_total_revenue(df)"
   ]
  },
  {
   "cell_type": "code",
   "execution_count": 16,
   "id": "fef08a35-82e8-4f8b-af4c-002fad73d0a6",
   "metadata": {},
   "outputs": [
    {
     "name": "stdout",
     "output_type": "stream",
     "text": [
      "The total revenue is: 1400\n"
     ]
    }
   ],
   "source": [
    "print(f\"The total revenue is: {total_revenue}\")"
   ]
  },
  {
   "cell_type": "code",
   "execution_count": null,
   "id": "0653f1cb-4fae-4110-ae78-6d3fcbcc0b44",
   "metadata": {},
   "outputs": [],
   "source": []
  }
 ],
 "metadata": {
  "kernelspec": {
   "display_name": "Python 3 (ipykernel)",
   "language": "python",
   "name": "python3"
  },
  "language_info": {
   "codemirror_mode": {
    "name": "ipython",
    "version": 3
   },
   "file_extension": ".py",
   "mimetype": "text/x-python",
   "name": "python",
   "nbconvert_exporter": "python",
   "pygments_lexer": "ipython3",
   "version": "3.12.4"
  }
 },
 "nbformat": 4,
 "nbformat_minor": 5
}
